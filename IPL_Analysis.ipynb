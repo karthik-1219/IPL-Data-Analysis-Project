{
 "cells": [
  {
   "cell_type": "code",
   "execution_count": null,
   "id": "5b3cfa64-437e-44d8-83f9-cd232e3732dd",
   "metadata": {},
   "outputs": [],
   "source": [
    "# import libraries \n",
    "\n",
    "import pandas as pd\n",
    "import numpy as np\n",
    "import seaborn as sns\n",
    "import matplotlib.pyplot as plt"
   ]
  },
  {
   "cell_type": "code",
   "execution_count": null,
   "id": "88a259c3-fec9-46e6-81a7-b77ed3e4979e",
   "metadata": {},
   "outputs": [],
   "source": [
    "# setting style\n",
    "\n",
    "sns.set_style('whitegrid')\n",
    "plt.style.use('fivethirtyeight')"
   ]
  },
  {
   "cell_type": "code",
   "execution_count": null,
   "id": "c96a7aa7-2c5e-4834-b741-2c718366a9da",
   "metadata": {},
   "outputs": [],
   "source": [
    "# loading datasets \n",
    "\n",
    "deli = pd.read_csv('deliveries.csv')\n",
    "mat = pd.read_csv('matches.csv')"
   ]
  },
  {
   "cell_type": "code",
   "execution_count": null,
   "id": "0c400013-b2db-4d10-80f9-1fafd7df0c4a",
   "metadata": {},
   "outputs": [],
   "source": [
    "# deliveries.csv dataset size and first 5 rows\n",
    "\n",
    "deli.shape"
   ]
  },
  {
   "cell_type": "code",
   "execution_count": null,
   "id": "d6230279-501b-4079-a379-390be73844df",
   "metadata": {},
   "outputs": [],
   "source": [
    "deli.head()"
   ]
  },
  {
   "cell_type": "code",
   "execution_count": null,
   "id": "384bf614-4a30-4a35-b677-b332cc26cc7c",
   "metadata": {},
   "outputs": [],
   "source": [
    "# match.csv dataset size and first 5 rows\n",
    "\n",
    "mat.shape"
   ]
  },
  {
   "cell_type": "code",
   "execution_count": null,
   "id": "fd0b14eb-0dc6-4db7-968e-3e103cabade6",
   "metadata": {},
   "outputs": [],
   "source": [
    "mat.head()"
   ]
  },
  {
   "cell_type": "code",
   "execution_count": null,
   "id": "c4384ee0-3e4a-4bc3-a13a-a9d740a9e008",
   "metadata": {},
   "outputs": [],
   "source": [
    "# mat['city'].value_counts()\n",
    "# mat['venue'].value_counts()\n",
    "mat['team1'].value_counts()"
   ]
  },
  {
   "cell_type": "code",
   "execution_count": null,
   "id": "e4b33220-7aa3-430f-8d7d-232f506ecb6f",
   "metadata": {},
   "outputs": [],
   "source": [
    "# team names issues in datasets\n",
    "\n",
    "deli['batting_team'].value_counts()"
   ]
  },
  {
   "cell_type": "code",
   "execution_count": null,
   "id": "02284ffb-bd6b-4083-94fa-e834c82de014",
   "metadata": {},
   "outputs": [],
   "source": [
    "# resolving naming issues in deliveries.csv i.e, batting_team , bowling_team \n",
    "\n",
    "deli['batting_team'] = deli['batting_team'].replace({'Royal Challengers Bangalore': 'Royal Challengers Bengaluru'})\n",
    "deli['bowling_team'] = deli['bowling_team'].replace({'Royal Challengers Bangalore': 'Royal Challengers Bengaluru'})\n",
    "\n",
    "deli['batting_team'] = deli['batting_team'].replace({'Rising Pune Supergiant': 'Rising Pune Supergiants'})\n",
    "deli['bowling_team'] = deli['bowling_team'].replace({'Rising Pune Supergiant': 'Rising Pune Supergiants'})"
   ]
  },
  {
   "cell_type": "code",
   "execution_count": null,
   "id": "7ad58627-a540-4a74-b006-11dd8ab5b273",
   "metadata": {},
   "outputs": [],
   "source": [
    "deli.head()"
   ]
  },
  {
   "cell_type": "code",
   "execution_count": null,
   "id": "241a47b3-3348-459e-bdaa-fe13af974eb4",
   "metadata": {},
   "outputs": [],
   "source": [
    "deli['batting_team'].value_counts()"
   ]
  },
  {
   "cell_type": "code",
   "execution_count": null,
   "id": "aff9a238-cd08-4f1e-8433-034ae7b5d0bf",
   "metadata": {},
   "outputs": [],
   "source": [
    "# resolving naming issues in matches.csv i.e, city , venue , team1 , team2 , toss_winner , winner \n",
    "\n",
    "# city replacements\n",
    "city_replacements = {\n",
    "    'Bangalore': 'Bengaluru',\n",
    "    'Chandigarh': 'Mohali',\n",
    "    'Navi Mumbai': 'Mumbai'\n",
    "}\n",
    "\n",
    "mat['city'] = mat['city'].replace(city_replacements)\n",
    "\n",
    "\n",
    "# venue name replacements\n",
    "venue_replacements = {\n",
    "    'Wankhede Stadium, Mumbai': 'Wankhede Stadium',\n",
    "    'MA Chidambaram Stadium, Chepauk, Chennai': 'MA Chidambaram Stadium',\n",
    "    'MA Chidambaram Stadium, Chepauk': 'MA Chidambaram Stadium',\n",
    "    'Eden Gardens, Kolkata': 'Eden Gardens',\n",
    "    'M Chinnaswamy Stadium, Bengaluru': 'M Chinnaswamy Stadium',\n",
    "    'M.Chinnaswamy Stadium': 'M Chinnaswamy Stadium',\n",
    "    'Rajiv Gandhi International Stadium, Uppal': 'Rajiv Gandhi International Stadium',\n",
    "    'Rajiv Gandhi International Stadium, Uppal, Hyderabad': 'Rajiv Gandhi International Stadium',\n",
    "    'Punjab Cricket Association Stadium, Mohali': 'Punjab Cricket Association Stadium',\n",
    "    'Punjab Cricket Association IS Bindra Stadium': 'Punjab Cricket Association Stadium',\n",
    "    'Punjab Cricket Association IS Bindra Stadium, Mohali': 'Punjab Cricket Association Stadium',\n",
    "    'Punjab Cricket Association IS Bindra Stadium, Mohali, Chandigarh': 'Punjab Cricket Association Stadium',\n",
    "    'Dr DY Patil Sports Academy, Mumbai': 'Dr DY Patil Sports Academy',\n",
    "    'Brabourne Stadium, Mumbai': 'Brabourne Stadium',\n",
    "    'Arun Jaitley Stadium, Delhi': 'Arun Jaitley Stadium',\n",
    "    'Sawai Mansingh Stadium, Jaipur': 'Sawai Mansingh Stadium',\n",
    "    'Maharashtra Cricket Association Stadium, Pune': 'Maharashtra Cricket Association Stadium',\n",
    "    'Dr. Y.S. Rajasekhara Reddy ACA-VDCA Cricket Stadium, Visakhapatnam': 'Dr. Y.S. Rajasekhara Reddy ACA-VDCA Cricket Stadium',\n",
    "    'Sardar Patel Stadium, Motera': 'Narendra Modi Stadium',\n",
    "    'Barsapara Cricket Stadium, Guwahati': 'Barsapara Cricket Stadium',\n",
    "    'Himachal Pradesh Cricket Association Stadium, Dharamsala': 'Himachal Pradesh Cricket Association Stadium',\n",
    "    'Vidarbha Cricket Association Stadium, Jamtha': 'Vidarbha Cricket Association Stadium',\n",
    "    'Maharaja Yadavindra Singh International Cricket Stadium, Mullanpur': 'Maharaja Yadavindra Singh International Cricket Stadium',\n",
    "}\n",
    "\n",
    "mat['venue'] = mat['venue'].replace(venue_replacements)\n",
    "\n",
    "\n",
    "# team1 , team2 , toss_winner , winner replacements\n",
    "team_replacements = {\n",
    "    'Royal Challengers Bangalore': 'Royal Challengers Bengaluru',\n",
    "    'Rising Pune Supergiant': 'Rising Pune Supergiants'\n",
    "}\n",
    "\n",
    "for i in ['team1', 'team2', 'toss_winner', 'winner']:\n",
    "    mat[i] = mat[i].replace(team_replacements)\n"
   ]
  },
  {
   "cell_type": "code",
   "execution_count": null,
   "id": "aaba8e8b-62cc-48be-ad03-6ccd98e84e91",
   "metadata": {},
   "outputs": [],
   "source": [
    "mat.head()"
   ]
  },
  {
   "cell_type": "code",
   "execution_count": null,
   "id": "d148c94a-bfa9-456f-8955-5c01ea4196a9",
   "metadata": {},
   "outputs": [],
   "source": [
    "# total NA values in city \n",
    "mat['city'].isna().sum()\n"
   ]
  },
  {
   "cell_type": "code",
   "execution_count": null,
   "id": "d1a14fc0-4f2c-4ff4-a2e9-2dd95469c772",
   "metadata": {},
   "outputs": [],
   "source": [
    "# fix NA\n",
    "mat['city'] = mat['city'].fillna('Unknown')"
   ]
  },
  {
   "cell_type": "code",
   "execution_count": null,
   "id": "a8a83793-3194-440d-a388-34a48a7edc25",
   "metadata": {},
   "outputs": [],
   "source": [
    "# D/L in method\n",
    "mat['method'].value_counts()"
   ]
  },
  {
   "cell_type": "code",
   "execution_count": null,
   "id": "3329b208-a440-4991-bedd-66a0a0958837",
   "metadata": {},
   "outputs": [],
   "source": [
    "# change NaN or NA to Non D/L\n",
    "mat['method'] = mat['method'].fillna('Non D/L')"
   ]
  },
  {
   "cell_type": "code",
   "execution_count": null,
   "id": "de994ea1-ac54-49c3-8f95-aef23ce6d474",
   "metadata": {},
   "outputs": [],
   "source": [
    "def random_colors(no_of_colors):\n",
    "    return ['#'+''.join([np.random.choice(list('0123456789ABCDEF')) for _ in range(6)]) for _ in range(no_of_colors)]"
   ]
  },
  {
   "cell_type": "code",
   "execution_count": null,
   "id": "18abd8b6-e67e-46ad-8dd4-198676bebbc9",
   "metadata": {},
   "outputs": [],
   "source": [
    "# Calculate success ratio correctly\n",
    "wins = mat['winner'].value_counts()\n",
    "matches_played = mat['team1'].value_counts() + mat['team2'].value_counts()\n",
    "sr = (wins / matches_played) * 100\n",
    "sr = sr.sort_values(ascending=False)\n",
    "\n",
    "# Plot a figure\n",
    "plt.figure(figsize=(12, 6))\n",
    "ax = sns.barplot(x=sr.index, y=sr.values, hue=sr.index, palette=random_colors(len(sr)), legend=False)\n",
    "plt.title('Success Rate of Teams')\n",
    "plt.xlabel('Teams')\n",
    "plt.ylabel('Success Rate of Winning (%)')\n",
    "plt.xticks(rotation=90)\n",
    "plt.ylim(0, 100)\n",
    "\n",
    "for i, v in enumerate(sr.values):\n",
    "    ax.text(i, v + 1, f'{v:.1f}%', ha='center', va='bottom', fontsize=9)\n",
    "    \n",
    "plt.tight_layout()\n",
    "plt.show()\n"
   ]
  },
  {
   "cell_type": "code",
   "execution_count": null,
   "id": "4a5fb5e4-e8b8-40fe-8ac5-d443b8b253cf",
   "metadata": {},
   "outputs": [],
   "source": [
    "# Get winner count of each team by picking last match winner of each season\n",
    "wc = mat.groupby('season')[['season','winner']].tail(1)['winner'].value_counts()\n",
    "\n",
    "# Plot a figure\n",
    "plt.figure(figsize=(12, 6))\n",
    "\n",
    "# Use barplot with correct x and y directly from Series (no hue needed)\n",
    "ax = sns.barplot(x=wc.index, y=wc.values,hue=wc.index, palette=random_colors(len(wc)), legend=False)\n",
    "\n",
    "plt.title('Number of Titles Won by Each Team')\n",
    "plt.xlabel('Teams')\n",
    "plt.ylabel('Number of IPL Titles')\n",
    "plt.xticks(rotation=90)\n",
    "\n",
    "# Correct loop for adding value labels\n",
    "for i, v in enumerate(wc.values):\n",
    "    ax.text(i, v + 0.1, str(v), ha='center', va='bottom', fontsize=9)\n",
    "\n",
    "plt.tight_layout()\n",
    "plt.show()\n"
   ]
  },
  {
   "cell_type": "code",
   "execution_count": null,
   "id": "99873bc2-d125-43d3-ab4c-8af9ca2d115e",
   "metadata": {},
   "outputs": [],
   "source": [
    "# Calculate total runs\n",
    "tot_runs = deli.groupby('batter')['batsman_runs'].sum().reset_index(name='Runs')\n",
    "top10_runs = tot_runs.sort_values(by='Runs', ascending=False).head(10)\n",
    "\n",
    "# Plotting\n",
    "plt.figure(figsize=(12, 6))\n",
    "ax = sns.barplot(x='batter', y='Runs',hue='batter', data=top10_runs,palette=random_colors(len(top10_runs)), legend=False)\n",
    "\n",
    "plt.title('Total Runs by Top 10 Batters')\n",
    "plt.xlabel('Batter')\n",
    "plt.ylabel('Total Runs')\n",
    "plt.xticks(rotation=90)\n",
    "\n",
    "# Add value labels\n",
    "for i, v in enumerate(top10_runs['Runs']):\n",
    "    ax.text(i, v + 10, str(v), ha='center', va='bottom', fontsize=9)\n",
    "\n",
    "plt.tight_layout()\n",
    "plt.show()\n"
   ]
  },
  {
   "cell_type": "code",
   "execution_count": null,
   "id": "815d6f41-cc4a-4372-911d-5f1f4dbec5ed",
   "metadata": {},
   "outputs": [],
   "source": [
    "ings_runs = deli.groupby(['match_id', 'batter'])['batsman_runs'].sum().reset_index(name='Innings Runs')\n",
    "top10_ings_runs = ings_runs.sort_values(by='Innings Runs', ascending=False).head(10)"
   ]
  },
  {
   "cell_type": "code",
   "execution_count": null,
   "id": "90838d2d-d7d4-4fa0-85e8-515fe11ac937",
   "metadata": {},
   "outputs": [],
   "source": [
    "# bm_perf = batsman_performonce\n",
    "balls_faced = deli.groupby(['match_id', 'batter'])['batsman_runs'].count().reset_index(name='Balls Faced')\n",
    "\n",
    "bm_perf = pd.merge(ings_runs, balls_faced, how='inner', on=['match_id', 'batter'])\n",
    "bm_perf['Strike Rate for Match'] = np.round(bm_perf['Innings Runs'] * 100 / bm_perf['Balls Faced'], 2)\n",
    "\n",
    "# Filter bm_perf to keep only the exact rows from top10_ings_runs (match_id and batter)\n",
    "bm_perf_top10 = bm_perf[bm_perf.set_index(['match_id', 'batter']).index.isin(top10_ings_runs.set_index(['match_id', 'batter']).index)]\n",
    "\n",
    "plt.figure(figsize=(12, 6))\n",
    "plt.scatter(bm_perf_top10['batter'], bm_perf_top10['Strike Rate for Match'], label='Strike Rate', s=100, alpha=0.6)\n",
    "plt.scatter(bm_perf_top10['batter'], bm_perf_top10['Innings Runs'], label='Runs', s=100, alpha=0.6)\n",
    "plt.title('Best Performance in an IPL Match (Top 10 Innings)')\n",
    "plt.xlabel('Batsmen')\n",
    "plt.ylabel('Strike Rate / Innings Runs')\n",
    "plt.legend()\n",
    "plt.xticks(rotation=45)\n",
    "plt.tight_layout()\n",
    "plt.show()"
   ]
  },
  {
   "cell_type": "code",
   "execution_count": null,
   "id": "e509386f-208c-42b3-bd4f-b99509cb7132",
   "metadata": {},
   "outputs": [],
   "source": [
    "# bw = bowling_wickets \n",
    "\n",
    "bw = deli[deli['dismissal_kind'] != 'run out']\n",
    "top_bwlrs = bw.groupby('bowler')['dismissal_kind'].count().reset_index(name='wickets').sort_values(by='wickets', ascending=False).head(10)\n",
    "\n",
    "plt.figure(figsize=(12, 6))\n",
    "plt.plot(top_bwlrs['bowler'], top_bwlrs['wickets'], marker='o', color='red', ms=12)\n",
    "plt.title('Top 10 Bowlers in IPL (Till 2020)')\n",
    "plt.xlabel('Bowlers')\n",
    "plt.ylabel('Wickets Taken')\n",
    "plt.xticks(rotation=45)\n",
    "plt.tight_layout()\n",
    "plt.show()\n"
   ]
  },
  {
   "cell_type": "code",
   "execution_count": null,
   "id": "51704a64-f4f3-46e2-aa38-35bbb786eb6c",
   "metadata": {},
   "outputs": [],
   "source": [
    "bw_wickets = bw.groupby(['match_id', 'bowler'])['dismissal_kind'].count().reset_index(name='wickets').sort_values(by='wickets', ascending=False)[:10]\n",
    "bw_runs = deli.groupby(['match_id', 'bowler'])['total_runs'].sum().reset_index(name='runs_conceded')\n",
    "bw_perf = pd.merge(bw_runs, bw_wickets, how='inner', on=['match_id', 'bowler'])\n",
    "bw_perf['runs_per_wicket'] = np.round(bw_perf['runs_conceded'] / bw_perf['wickets'], 0)\n",
    "\n",
    "plt.figure(figsize=(12, 6))\n",
    "plt.scatter(bw_perf['bowler'], bw_perf['wickets'], label='Wickets', s=100, alpha=0.6)\n",
    "plt.plot(bw_perf['bowler'], bw_perf['runs_per_wicket'], marker='o', label='Runs per Wicket')\n",
    "plt.title('IPL Best Bowling Performances in a Match')\n",
    "plt.xlabel('Bowlers')\n",
    "plt.ylabel('Runs per Wicket / Wickets Taken')\n",
    "plt.legend()\n",
    "plt.xticks(rotation=45)\n",
    "plt.tight_layout()\n",
    "plt.show()"
   ]
  },
  {
   "cell_type": "code",
   "execution_count": null,
   "id": "afcfc57c-3c85-49bc-9342-7bbf9d0fbcde",
   "metadata": {},
   "outputs": [],
   "source": [
    "mat = mat.rename(columns={'id': 'match_id'})\n",
    "deli_season = deli.merge(mat[['match_id', 'season']], on='match_id', how='left')\n"
   ]
  },
  {
   "cell_type": "code",
   "execution_count": null,
   "id": "b28322de-291a-45e3-ba1e-e4fc7bd022f8",
   "metadata": {},
   "outputs": [],
   "source": [
    "wickets = deli_season[deli_season['dismissal_kind'] != 'run out']\n",
    "season_bowler_wickets = wickets.groupby(['season', 'bowler'])['dismissal_kind'].count().reset_index(name='wickets')\n",
    "top_wicket_takers = season_bowler_wickets.loc[season_bowler_wickets.groupby('season')['wickets'].idxmax()]\n",
    "\n",
    "plt.figure(figsize=(14,7))\n",
    "bars = plt.bar(top_wicket_takers['season'].astype(str), top_wicket_takers['wickets'], color='teal')\n",
    "plt.title('Highest Wicket Taker Per IPL Season')\n",
    "plt.xlabel('Season')\n",
    "plt.ylabel('Number of Wickets')\n",
    "plt.xticks(rotation=60)\n",
    "\n",
    "for bar, bowler, wickets in zip(bars, top_wicket_takers['bowler'], top_wicket_takers['wickets']):\n",
    "    height = bar.get_height()\n",
    "    plt.text(bar.get_x() + bar.get_width()/2, height + 1, f\"{bowler}\\n{wickets}\", ha='center', va='bottom', fontsize=9)\n",
    "\n",
    "plt.tight_layout()\n",
    "plt.show()\n"
   ]
  },
  {
   "cell_type": "code",
   "execution_count": null,
   "id": "eeb21e94-c703-46e0-b468-6d7e78ff2f4a",
   "metadata": {},
   "outputs": [],
   "source": [
    "bw_wkts = deli[deli['dismissal_kind'] != 'run out']\n",
    "bw_match = bw_wkts.groupby(['match_id', 'bowler'])['dismissal_kind'].count().reset_index(name='wkts')\n",
    "\n",
    "bw_match = pd.merge(bw_match, mat[['match_id', 'season']], on='match_id', how='left')\n",
    "\n",
    "bw_max_match = bw_match.sort_values(['season', 'wkts'], ascending=[True, False])\n",
    "bw_max_match = bw_max_match.groupby('season').head(1).reset_index(drop=True)\n",
    "\n",
    "plt.figure(figsize=(14, 4))\n",
    "bars = plt.bar(bw_max_match['season'].astype(str), bw_max_match['wkts'], color='orange')\n",
    "plt.title('Highest Wickets in a Single Match Per IPL Season')\n",
    "plt.xlabel('Season')\n",
    "plt.ylabel('Wickets Taken')\n",
    "plt.xticks(rotation=45)\n",
    "\n",
    "for bar, bowler, wkts in zip(bars, bw_max_match['bowler'], bw_max_match['wkts']):\n",
    "    h = bar.get_height()\n",
    "    plt.text(bar.get_x() + bar.get_width()/2, h + 0.3, f\"{bowler}\\n{wkts}\", ha='center', va='bottom', fontsize=9)\n",
    "\n",
    "plt.tight_layout()\n",
    "plt.show()\n"
   ]
  },
  {
   "cell_type": "code",
   "execution_count": null,
   "id": "85a50e8b-ca81-4a23-9880-c627f7b781db",
   "metadata": {},
   "outputs": [],
   "source": [
    "mat.columns"
   ]
  },
  {
   "cell_type": "code",
   "execution_count": null,
   "id": "0487e833-06ef-42d1-bc85-67899ab8ac1c",
   "metadata": {},
   "outputs": [],
   "source": [
    "bat_runs = deli.groupby(['match_id', 'batter'])['batsman_runs'].sum().reset_index(name='runs')\n",
    "centuries = bat_runs[bat_runs['runs'] >= 100]\n",
    "centuries = centuries.merge(mat[['match_id', 'season']], on='match_id', how='left')\n",
    "cent_by_season = centuries.groupby(['season', 'batter']).size().reset_index(name='centuries')\n",
    "max_cent = cent_by_season.sort_values(['season', 'centuries'], ascending=[True, False])\n",
    "max_cent = max_cent.groupby('season').head(1).reset_index(drop=True)\n",
    "\n",
    "plt.figure(figsize=(16,6))\n",
    "bars = plt.bar(max_cent['season'].astype(str), max_cent['centuries'], color='green')\n",
    "plt.title('Most Centuries in a Season - IPL')\n",
    "plt.xlabel('Season')\n",
    "plt.ylabel('No. of Centuries')\n",
    "plt.xticks(rotation=45)\n",
    "\n",
    "for bar, name, ct in zip(bars, max_cent['batter'], max_cent['centuries']):\n",
    "    h = bar.get_height()\n",
    "    plt.text(bar.get_x() + bar.get_width()/2, h + 0.3, f\"{name}\\n{ct}\", ha='center', va='bottom', fontsize=9)\n",
    "\n",
    "plt.tight_layout()\n",
    "plt.show()\n"
   ]
  },
  {
   "cell_type": "code",
   "execution_count": null,
   "id": "add43e08-8e45-47be-a4fb-64c69ecec9ac",
   "metadata": {},
   "outputs": [],
   "source": [
    "venue_counts = mat['venue'].value_counts().reset_index()\n",
    "venue_counts.columns = ['venue', 'matches']\n",
    "\n",
    "plt.figure(figsize=(10,10))\n",
    "plt.pie(venue_counts['matches'][:10], labels=venue_counts['venue'][:10], \n",
    "        autopct='%1.1f%%', startangle=140, colors=plt.cm.tab20.colors)\n",
    "plt.title('Top 10 IPL Venues by Number of Matches')\n",
    "plt.tight_layout()\n",
    "plt.show()\n"
   ]
  },
  {
   "cell_type": "code",
   "execution_count": null,
   "id": "41451be9-ad94-422e-8f04-84dfd4cc3335",
   "metadata": {},
   "outputs": [],
   "source": []
  }
 ],
 "metadata": {
  "kernelspec": {
   "display_name": "Python 3 (ipykernel)",
   "language": "python",
   "name": "python3"
  },
  "language_info": {
   "codemirror_mode": {
    "name": "ipython",
    "version": 3
   },
   "file_extension": ".py",
   "mimetype": "text/x-python",
   "name": "python",
   "nbconvert_exporter": "python",
   "pygments_lexer": "ipython3",
   "version": "3.12.7"
  }
 },
 "nbformat": 4,
 "nbformat_minor": 5
}
